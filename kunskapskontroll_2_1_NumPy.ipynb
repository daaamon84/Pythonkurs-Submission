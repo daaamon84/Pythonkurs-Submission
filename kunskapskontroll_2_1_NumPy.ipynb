{
 "cells": [
  {
   "cell_type": "markdown",
   "id": "dacf74e6",
   "metadata": {},
   "source": [
    "# NumPy"
   ]
  },
  {
   "cell_type": "markdown",
   "id": "01b2bf34",
   "metadata": {},
   "source": [
    "Read the links: https://numpy.org/doc/stable/user/quickstart.html  and https://numpy.org/doc/stable/user/basics.broadcasting.html  before solving the exercises. "
   ]
  },
  {
   "cell_type": "code",
   "execution_count": 2,
   "id": "1f79e4a6",
   "metadata": {},
   "outputs": [],
   "source": [
    "import numpy as np"
   ]
  },
  {
   "cell_type": "markdown",
   "id": "7dae6889",
   "metadata": {},
   "source": [
    "### Print out the dimension (number of axes), shape, size and the datatype of the matrix A."
   ]
  },
  {
   "cell_type": "code",
   "execution_count": 6,
   "id": "7b3678cd",
   "metadata": {},
   "outputs": [],
   "source": [
    "A = np.arange(1, 16).reshape(3,5)"
   ]
  },
  {
   "cell_type": "code",
   "execution_count": 8,
   "id": "31d39235",
   "metadata": {},
   "outputs": [
    {
     "name": "stdout",
     "output_type": "stream",
     "text": [
      "Dimension (number of axes): 2\n",
      "Shape: (3, 5)\n",
      "Size (total number of elements): 15\n",
      "Datatype: int64\n"
     ]
    }
   ],
   "source": [
    "print(\"Dimension (number of axes):\", A.ndim)\n",
    "\n",
    "print(\"Shape:\", A.shape)\n",
    "\n",
    "print(\"Size (total number of elements):\", A.size)\n",
    "\n",
    "print(\"Datatype:\", A.dtype)"
   ]
  },
  {
   "cell_type": "markdown",
   "id": "e56d2a96",
   "metadata": {},
   "source": [
    "### Do the following computations on the matrices B and C: \n",
    "* Elementwise subtraction. \n",
    "* Elementwise multiplication. \n",
    "* Matrix multiplication (by default you should use the @ operator)."
   ]
  },
  {
   "cell_type": "code",
   "execution_count": 14,
   "id": "a7053fbb",
   "metadata": {},
   "outputs": [
    {
     "name": "stdout",
     "output_type": "stream",
     "text": [
      "Matris B:\n",
      "[[1 2 3]\n",
      " [4 5 6]\n",
      " [7 8 9]]\n",
      "\n",
      "Matris C:\n",
      "[[2. 2. 2.]\n",
      " [2. 2. 2.]\n",
      " [2. 2. 2.]]\n",
      "\n",
      "E Subtraction:\n",
      "[[-1.  0.  1.]\n",
      " [ 2.  3.  4.]\n",
      " [ 5.  6.  7.]]\n",
      "\n",
      "E Multiplication:\n",
      "[[ 2.  4.  6.]\n",
      " [ 8. 10. 12.]\n",
      " [14. 16. 18.]]\n",
      "\n",
      "Matrix Multiplication:\n",
      "[[12. 12. 12.]\n",
      " [30. 30. 30.]\n",
      " [48. 48. 48.]]\n"
     ]
    }
   ],
   "source": [
    "B = np.arange(1, 10).reshape(3, 3)\n",
    "C = np.ones((3, 3))*2\n",
    "\n",
    "print(\"Matris B:\")\n",
    "print(B)\n",
    "print()\n",
    "\n",
    "print(\"Matris C:\")\n",
    "print(C)\n",
    "print()\n",
    "\n",
    "print(\"E Subtraction:\")\n",
    "print(B - C)\n",
    "print()\n",
    "\n",
    "print(\"E Multiplication:\")\n",
    "print(B * C)\n",
    "print()\n",
    "# Samma som innan fast med multiplikation\n",
    "\n",
    "print(\"Matrix Multiplication:\")\n",
    "print(B @ C)"
   ]
  },
  {
   "cell_type": "code",
   "execution_count": null,
   "id": "3cd794ae",
   "metadata": {},
   "outputs": [],
   "source": []
  },
  {
   "cell_type": "markdown",
   "id": "96030d53",
   "metadata": {},
   "source": [
    "### Do the following calculations on the matrix:\n",
    "* Exponentiate each number elementwise (use the np.exp function).\n",
    "\n",
    "* Calculate the minimum value in the whole matrix. \n",
    "* Calculcate the minimum value in each row. \n",
    "* Calculcate the minimum value in each column. \n",
    "\n",
    "\n",
    "* Find the index value for the minimum value in the whole matrix (hint: use np.argmin).\n",
    "* Find the index value for the minimum value in each row (hint: use np.argmin).\n",
    "\n",
    "\n",
    "* Calculate the sum for all elements.\n",
    "* Calculate the mean for each column. \n",
    "* Calculate the median for each column. "
   ]
  },
  {
   "cell_type": "code",
   "execution_count": 22,
   "id": "f8a9166b",
   "metadata": {},
   "outputs": [
    {
     "name": "stdout",
     "output_type": "stream",
     "text": [
      "[[1 2 3]\n",
      " [4 5 6]\n",
      " [7 8 9]]\n",
      "Exponentiate each element:\n",
      "[[2.71828183e+00 7.38905610e+00 2.00855369e+01]\n",
      " [5.45981500e+01 1.48413159e+02 4.03428793e+02]\n",
      " [1.09663316e+03 2.98095799e+03 8.10308393e+03]]\n",
      "\n",
      "Minimum value in the whole matrix:\n",
      "1\n",
      "\n",
      "Minimum value in each row:\n",
      "[1 4 7]\n",
      "\n",
      "Minimum value in each column:\n",
      "[1 2 3]\n",
      "\n",
      "Index for the minimum value in the whole matrix:\n",
      "0\n",
      "\n",
      "Index for the minimum value in each row:\n",
      "[0 0 0]\n",
      "\n",
      "Sum of all elements:\n",
      "45\n",
      "\n",
      "Mean for each column:\n",
      "[4. 5. 6.]\n",
      "\n",
      "Median for each column:\n",
      "[4. 5. 6.]\n"
     ]
    }
   ],
   "source": [
    "B = np.arange(1, 10).reshape(3, 3)\n",
    "print(B)\n",
    "\n",
    "exp_B = np.exp(B)\n",
    "print(\"Exponentiate each element:\")\n",
    "print(exp_B)\n",
    "print()\n",
    "\n",
    "# minst i matrisen\n",
    "min_val = B.min()\n",
    "print(\"Minimum value in the whole matrix:\")\n",
    "print(min_val)\n",
    "print()\n",
    "\n",
    "# minst i varje rad\n",
    "min_row = B.min(axis=1)\n",
    "print(\"Minimum value in each row:\")\n",
    "print(min_row)\n",
    "print()\n",
    "\n",
    "# minsta i varje kolumn\n",
    "min_col = B.min(axis=0)\n",
    "print(\"Minimum value in each column:\")\n",
    "print(min_col)\n",
    "print()\n",
    "\n",
    "# 5. Index för det minsta värdet i hela matrisen.\n",
    "argmin_val = np.argmin(B)\n",
    "print(\"Index for the minimum value in the whole matrix:\")\n",
    "print(argmin_val)\n",
    "print()\n",
    "\n",
    "# returnerartill 0\n",
    "argmin_row = np.argmin(B, axis=1)\n",
    "print(\"Index for the minimum value in each row:\")\n",
    "print(argmin_row)\n",
    "print()\n",
    "\n",
    "# 7. Summan av elementen (adderad)\n",
    "sum_all = B.sum()\n",
    "print(\"Sum of all elements:\")\n",
    "print(sum_all)\n",
    "print()\n",
    "\n",
    "# 8. Medelvärde för varje kolumn (man delar alla kolumner)\n",
    "mean_col = B.mean(axis=0)\n",
    "print(\"Mean for each column:\")\n",
    "print(mean_col)\n",
    "print()\n",
    "\n",
    "# Median för varje kolumn (allt imellan)\n",
    "median_col = np.median(B, axis=0)\n",
    "print(\"Median for each column:\")\n",
    "print(median_col)"
   ]
  },
  {
   "cell_type": "code",
   "execution_count": null,
   "id": "f03f24f7",
   "metadata": {},
   "outputs": [],
   "source": []
  },
  {
   "cell_type": "markdown",
   "id": "541eb7ba",
   "metadata": {},
   "source": [
    "### What does it mean when you provide fewer indices than axes when slicing? See example below."
   ]
  },
  {
   "cell_type": "code",
   "execution_count": null,
   "id": "9c8abf56",
   "metadata": {},
   "outputs": [],
   "source": [
    "print(A)"
   ]
  },
  {
   "cell_type": "code",
   "execution_count": null,
   "id": "69415f7b",
   "metadata": {},
   "outputs": [],
   "source": [
    "A[1]"
   ]
  },
  {
   "cell_type": "markdown",
   "id": "6c53541b",
   "metadata": {},
   "source": [
    "**Answer:**"
   ]
  },
  {
   "cell_type": "code",
   "execution_count": null,
   "id": "de01e120",
   "metadata": {},
   "outputs": [],
   "source": [
    "#Anger man färre index än matrisens dimensioner, fås en hel rad, kolumn eller del, t.ex ger A[1] hela andra raden."
   ]
  },
  {
   "cell_type": "markdown",
   "id": "6652d0c9",
   "metadata": {},
   "source": [
    "### Iterating over multidimensional arrays is done with respect to the first axis, so in the example below we iterate trough the rows. If you would like to iterate through the array *elementwise*, how would you do that?"
   ]
  },
  {
   "cell_type": "code",
   "execution_count": 24,
   "id": "9459864f",
   "metadata": {},
   "outputs": [],
   "source": [
    "A= np.array([[1, 2, 3],\n",
    "              [4, 5, 6],\n",
    "              [7, 8, 9]])"
   ]
  },
  {
   "cell_type": "code",
   "execution_count": 26,
   "id": "a671bb5a",
   "metadata": {},
   "outputs": [
    {
     "name": "stdout",
     "output_type": "stream",
     "text": [
      "[1 2 3]\n",
      "[4 5 6]\n",
      "[7 8 9]\n"
     ]
    }
   ],
   "source": [
    "for i in A:\n",
    "    print(i)"
   ]
  },
  {
   "cell_type": "code",
   "execution_count": 28,
   "id": "f4e443a0",
   "metadata": {},
   "outputs": [
    {
     "name": "stdout",
     "output_type": "stream",
     "text": [
      "1\n",
      "2\n",
      "3\n",
      "4\n",
      "5\n",
      "6\n",
      "7\n",
      "8\n",
      "9\n"
     ]
    }
   ],
   "source": [
    "for element in np.nditer(A):\n",
    "    print(element)"
   ]
  },
  {
   "cell_type": "markdown",
   "id": "608a2583",
   "metadata": {},
   "source": [
    "### Explain what the code below does. More specifically, b has three axes - what does this mean? "
   ]
  },
  {
   "cell_type": "code",
   "execution_count": null,
   "id": "f8f9b26f",
   "metadata": {},
   "outputs": [],
   "source": [
    "a = np.arange(30)\n",
    "b = a.reshape((2, 3, -1))\n",
    "print(a)\n",
    "print()\n",
    "\n",
    "print(b)"
   ]
  },
  {
   "cell_type": "code",
   "execution_count": null,
   "id": "863a45df",
   "metadata": {},
   "outputs": [],
   "source": [
    "#Arrayen A är tredimensionell med tre axlar: block (första axeln), rader (andra axeln) och kolumner (tredje axeln)."
   ]
  },
  {
   "cell_type": "code",
   "execution_count": null,
   "id": "eed38bbb-dd20-4d23-837f-679aa3d3a067",
   "metadata": {},
   "outputs": [],
   "source": [
    "#Reshape skapar en tredimensionell array med data organiserad i block, rader och kolumner."
   ]
  },
  {
   "cell_type": "markdown",
   "id": "421c9607-819a-401d-949a-97424436fe29",
   "metadata": {},
   "source": [
    "# For the exercises below, read the document *\"matematik_yh_antonio_vektorer_matriser_utdrag\"*\n",
    "# Solutions to the exercises and recorded videos can be found here: https://github.com/AntonioPrgomet/matematik_foer_yh\n",
    "\n",
    "# If you find the exercises below very hard, do not worry. Try your best, that will be enough. "
   ]
  },
  {
   "cell_type": "markdown",
   "id": "ab5933d5",
   "metadata": {},
   "source": [
    "### Broadcasting\n",
    "**Read the following link about broadcasting: https://numpy.org/doc/stable/user/basics.broadcasting.html#basics-broadcasting**"
   ]
  },
  {
   "cell_type": "markdown",
   "id": "039805ba",
   "metadata": {},
   "source": [
    "# Remark on Broadcasting when doing Linear Algebra calculations in Python. "
   ]
  },
  {
   "cell_type": "markdown",
   "id": "c4bcc147",
   "metadata": {},
   "source": [
    "### From the mathematical rules of matrix addition, the operation below (m1 + m2) does not make sense. The reason is that matrix addition requires two matrices of the same size. In Python however, it works due to broadcasting rules in NumPy. So you must be careful when doing Linear Algebra calculations in Python since they do not follow the \"mathematical rules\". This can however easily be handled by doing some simple programming, for example validating that two matrices have the same shape is easy if you for instance want to add two matrices. "
   ]
  },
  {
   "cell_type": "code",
   "execution_count": 30,
   "id": "1fd46778",
   "metadata": {},
   "outputs": [
    {
     "name": "stdout",
     "output_type": "stream",
     "text": [
      "[[2 3]\n",
      " [4 5]]\n"
     ]
    }
   ],
   "source": [
    "m1 = np.array([[1, 2], [3, 4]])\n",
    "m2 = np.array([1, 1])\n",
    "print(m1 + m2)\n",
    "\n",
    "#SVAR: Det fungerar tack vare broadcasting, där m2 expanderas för att matcha m1:s storlek."
   ]
  },
  {
   "cell_type": "markdown",
   "id": "047d6576",
   "metadata": {},
   "source": [
    "### The example below would also not be allowed if following the \"mathematical rules\" in Linear Algebra. But it works due to broadcasting in NumPy. "
   ]
  },
  {
   "cell_type": "code",
   "execution_count": 32,
   "id": "5e6ef2e4",
   "metadata": {},
   "outputs": [
    {
     "name": "stdout",
     "output_type": "stream",
     "text": [
      "[2 3 4]\n"
     ]
    }
   ],
   "source": [
    "v1 = np.array([1, 2, 3])\n",
    "print(v1 + 1)\n",
    "\n",
    "#SVAR: Broadcasting i NumPy ändrar automatiskt 1 till v1:s storlek, vilket förenklar additionen."
   ]
  },
  {
   "cell_type": "code",
   "execution_count": 36,
   "id": "e2cbae26",
   "metadata": {},
   "outputs": [
    {
     "name": "stdout",
     "output_type": "stream",
     "text": [
      "[[1 2]\n",
      " [3 4]]\n",
      "[2 2]\n",
      "A + b:\n",
      "[[3 4]\n",
      " [5 6]]\n",
      "A - b:\n",
      "[[-1  0]\n",
      " [ 1  2]]\n",
      "A * b:\n",
      "[[2 4]\n",
      " [6 8]]\n"
     ]
    }
   ],
   "source": [
    "A = np.arange(1, 5).reshape(2,2)\n",
    "print(A)\n",
    "\n",
    "b = np.array([2, 2])\n",
    "print(b)\n",
    "\n",
    "#SVAR: A är en array med siffrorna 1–4 som formas till en 2x2-matris, och B är en enradig array. Sedan kan jag utföra operationer som addition, subtraktion eller multiplikation.\n",
    "\n",
    "print(\"A + b:\")\n",
    "print(A + b)\n",
    "\n",
    "print(\"A - b:\")\n",
    "print(A - b)\n",
    "\n",
    "print(\"A * b:\")\n",
    "print(A * b)"
   ]
  },
  {
   "cell_type": "markdown",
   "id": "722fd5cd",
   "metadata": {},
   "source": [
    "# Vector- and matrix algebra Exercises"
   ]
  },
  {
   "cell_type": "markdown",
   "id": "b63a3081-d976-4d9f-bfd0-a63917e79f7d",
   "metadata": {},
   "source": [
    "**Now you are going to create a function that can be reused every time you add or multiply matrices. The function is created so that we do the addition and multiplication according to the rules of vector- and matrix algebra.**\n",
    "\n",
    "**Create a function \"add_mult_matrices\" that takes two matrices as input arguments (validate that the input are of the type numpy.ndarray by using the isinstance function), a third argument that is either 'add' or 'multiply' that specifies if you want to add or multiply the matrices (validate that the third argument is either 'add' or 'multiply'). When doing matrix addition, validate that the matrices have the same size. When doing matrix multiplication, validate that the sizes conform (i.e. number of columns in the first matrix is equal to the number of rows in the second matrix).**"
   ]
  },
  {
   "cell_type": "code",
   "execution_count": 42,
   "id": "3506f977-ac0a-473f-85bc-eec9f35dc498",
   "metadata": {},
   "outputs": [
    {
     "name": "stdout",
     "output_type": "stream",
     "text": [
      "Addition:\n",
      " [[ 6  8]\n",
      " [10 12]]\n",
      "\n",
      "\n",
      "Multiplikation:\n",
      " [[19 22]\n",
      " [43 50]]\n"
     ]
    }
   ],
   "source": [
    "import numpy as np\n",
    "\n",
    "def add_mult_matrices(matris1, matris2, operation):\n",
    " \n",
    "    \n",
    " \n",
    "    # Kontrollera att båda är numpy-matriser\n",
    "    if not isinstance(matris1, np.ndarray) or not isinstance(matris2, np.ndarray):\n",
    "        raise TypeError(\"Matriserna ska vara numpy.ndarray\")\n",
    "    \n",
    "    # Kontrollera att operationen är 'add' eller 'multiply'\n",
    "    if operation not in ['add', 'multiply']:\n",
    "        raise ValueError(\"Endast 'add' eller 'multiply' är tillåtna\")\n",
    "    \n",
    "    if operation == 'add':\n",
    "        # Kontrollera att matriserna är lika stora\n",
    "        if matris1.shape != matris2.shape:\n",
    "            raise ValueError(\"För addition måste matriserna ha samma storlek\")\n",
    "        return matris1 + matris2  # Addera matriser\n",
    "    \n",
    "    elif operation == 'multiply':\n",
    "        # Kontrollera att dimensionerna stämmer överns\n",
    "        if matris1.shape[1] != matris2.shape[0]:\n",
    "            raise ValueError(\"För multiplikation måste kolumner i matris1 matcha rader i matris2\")\n",
    "        return np.dot(matris1, matris2)  # Multiplicera matriser\n",
    "\n",
    "\n",
    "\n",
    "matris1 = np.array([[1, 2], [3, 4]])\n",
    "matris2 = np.array([[5, 6], [7, 8]])\n",
    "\n",
    "print(\"Addition:\\n\", add_mult_matrices(matris1, matris2, 'add'))\n",
    "print(\"\\n\")\n",
    "print(\"Multiplikation:\\n\", add_mult_matrices(matris1, matris2, 'multiply'))"
   ]
  },
  {
   "cell_type": "markdown",
   "id": "8dad82d0-2359-4dff-8f5b-a57d3e34103c",
   "metadata": {},
   "source": [
    "### Solve all the exercises in chapter 10.1 in the book \"Matematik för yrkeshögskolan\". "
   ]
  },
  {
   "cell_type": "code",
   "execution_count": 44,
   "id": "89df88af-3668-4d98-a0a4-e6d92eea0f89",
   "metadata": {},
   "outputs": [
    {
     "name": "stdout",
     "output_type": "stream",
     "text": [
      "A Svar:\n",
      "Dimension är: (2,)\n",
      "\n",
      " B Svar:\n",
      "Resultatet av 5x är: [20 15]\n",
      "\n",
      " C Svar:\n",
      "Resultatet av 3x är: [12  9]\n",
      "\n",
      " D Svar:\n",
      "Resultatet av 5x + 3x är: [32 24]\n",
      "\n",
      " E Svar:\n",
      "Resultatet av 8x är: [32 24]\n",
      "\n",
      " F Svar:\n",
      "Resultatet av 4x - x är: [12  9]\n",
      "\n",
      " G Svar:\n",
      "Ny dimension: (2,)\n",
      "\n",
      " H Svar:\n",
      "Resultatet av x + x^T är:\n",
      " [8 6]\n",
      "\n",
      " I Svar:\n",
      "Normen är: 5.0\n",
      "\n",
      " Uppgift 10.1.2:\n",
      "\n",
      " A Svar:\n",
      "Dimensionen av vektorn v är: (4,)\n",
      "\n",
      " B Svar:\n",
      "2v = [ 6 14  0 22]\n",
      "\n",
      " C Svar:\n",
      "5v + 2v = [21 49  0 77]\n",
      "\n",
      " D Svar:\n",
      "5v - 2v = [ 6 14  0 22]\n",
      "\n",
      " E Svar:\n",
      "[[ 3]\n",
      " [ 7]\n",
      " [ 0]\n",
      " [11]] (4, 1)\n",
      "\n",
      " F Svar:\n",
      "13.379088160259652\n",
      "\n",
      " Uppgift 10.1.3:\n",
      "\n",
      " A Svar:\n",
      "7.14142842854285\n",
      "\n",
      " B Svar:\n",
      "4.47213595499958\n"
     ]
    }
   ],
   "source": [
    "import numpy as np\n",
    "\n",
    "x = np.array([4, 3])\n",
    "\n",
    "print(\"A Svar:\")\n",
    "# Dimension\n",
    "dimension = x.shape\n",
    "print(\"Dimension är:\", dimension)\n",
    "\n",
    "print(\"\\n B Svar:\")\n",
    "# Beräkna 5x\n",
    "result = 5 * x\n",
    "print(\"Resultatet av 5x är:\", result)\n",
    "\n",
    "print(\"\\n C Svar:\")\n",
    "# Beräkna 3x\n",
    "result = 3 * x\n",
    "print(\"Resultatet av 3x är:\", result)\n",
    "\n",
    "print(\"\\n D Svar:\")\n",
    "# Beräkna 5x + 3x\n",
    "result = 5 * x + 3 * x\n",
    "print(\"Resultatet av 5x + 3x är:\", result)\n",
    "\n",
    "print(\"\\n E Svar:\")\n",
    "# Beräkna 8x\n",
    "result = 8 * x\n",
    "print(\"Resultatet av 8x är:\", result,)\n",
    "\n",
    "print(\"\\n F Svar:\")\n",
    "# Beräkna 4x - x\n",
    "result = 4 * x - x\n",
    "print(\"Resultatet av 4x - x är:\", result)\n",
    "\n",
    "\n",
    "print(\"\\n G Svar:\")\n",
    "x_transposed = x.T  # transponeringen\n",
    "dimension = x_transposed.shape # nya dimensionen\n",
    "print(\"Ny dimension:\", dimension)\n",
    "\n",
    "print(\"\\n H Svar:\")\n",
    "x_transposed = x.T\n",
    "try:\n",
    "    result = x + x_transposed\n",
    "    print(\"Resultatet av x + x^T är:\\n\", result)\n",
    "except ValueError as e:\n",
    "    print(\"x + x^T är inte definierat. Felmeddelande:\", e)\n",
    "\n",
    "print(\"\\n I Svar:\")\n",
    "norm = np.linalg.norm(x)\n",
    "print(\"Normen är:\", norm)\n",
    "\n",
    "print(\"\\n Uppgift 10.1.2:\")\n",
    "print(\"\\n A Svar:\")\n",
    "\n",
    "v = np.array([3, 7, 0, 11])\n",
    "dimension = v.shape  \n",
    "\n",
    "print(f\"Dimensionen av vektorn v är: {dimension}\")\n",
    "\n",
    "print(\"\\n B Svar:\")\n",
    "\n",
    "result = 2 * v\n",
    "\n",
    "print(f\"2v = {result}\")\n",
    "\n",
    "print(\"\\n C Svar:\")\n",
    "\n",
    "result = 5 * v + 2 * v\n",
    "\n",
    "print(f\"5v + 2v = {result}\")\n",
    "\n",
    "print(\"\\n D Svar:\")\n",
    "\n",
    "result = 4 * v - 2 * v\n",
    "\n",
    "print(f\"5v - 2v = {result}\")\n",
    "\n",
    "print(\"\\n E Svar:\")\n",
    "\n",
    "v_transposed = v.reshape(-1, 1)  # Göra om vektorn till en kolumn\n",
    "new_dimension = v_transposed.shape\n",
    "\n",
    "print(v_transposed, new_dimension)\n",
    "\n",
    "print(\"\\n F Svar:\")\n",
    "\n",
    "norm_v = np.linalg.norm(v)\n",
    "\n",
    "print(norm_v)\n",
    "\n",
    "print(\"\\n Uppgift 10.1.3:\")\n",
    "print(\"\\n A Svar:\")\n",
    "\n",
    "#vektor v1\n",
    "v1 = np.array([4, 3, 1, 5])\n",
    "\n",
    "#normen av v1\n",
    "norm_v1 = np.linalg.norm(v1)\n",
    "\n",
    "print(norm_v1)\n",
    "\n",
    "print(\"\\n B Svar:\")\n",
    "\n",
    "v1 = np.array([4, 3, 1, 5])\n",
    "v2 = np.array([2, 3, 1, 1])\n",
    "\n",
    "# Skillnaden v1 - v2\n",
    "difference = v1 - v2\n",
    "\n",
    "norm_difference = np.linalg.norm(difference)\n",
    "\n",
    "print(norm_difference)"
   ]
  },
  {
   "cell_type": "markdown",
   "id": "75c98984-1f88-4df1-b850-d2466de444a5",
   "metadata": {},
   "source": [
    "### Solve all the exercises, except 10.2.4, in chapter 10.2 in the book \"Matematik för yrkeshögskolan\". "
   ]
  },
  {
   "cell_type": "code",
   "execution_count": 46,
   "id": "65371610-16e1-48b2-b7fb-65e49002608a",
   "metadata": {},
   "outputs": [
    {
     "name": "stdout",
     "output_type": "stream",
     "text": [
      "\n",
      " Uppgift 10.2.1:\n",
      "\n",
      " A Svar:\n",
      "[[ 4  2 -2]\n",
      " [ 2 -2  2]]\n",
      "\n",
      " B Svar:\n",
      "[[ 0 -4  3]\n",
      " [ 0 -2 -4]]\n",
      "\n",
      " C Svar:\n",
      "[[ 1  4]\n",
      " [ 2 -1]]\n",
      "\n",
      " D Svar:\n",
      "[[3 2]\n",
      " [2 3]]\n",
      "\n",
      " E Svar:\n",
      "[[ 9 12]\n",
      " [12  9]]\n",
      "\n",
      " F Svar:\n",
      "[[-4 -4]\n",
      " [-4 -4]]\n",
      "\n",
      " G Svar:\n",
      "Dimensionerna för At och B överensstämmer inte, vilket gör subtraktionen omöjlig utan att justera matriserna.\n",
      "\n",
      " H Svar:\n",
      "Multiplikationen AC är inte möjligt eftersom antal kolumner i A inte matcher antalet rader i C.\n",
      "\n",
      " I Svar:\n",
      "[[11 10]\n",
      " [10 11]]\n",
      "\n",
      " J Svar:\n",
      "[[  8 -10  -3]\n",
      " [ 10  -8   0]]\n",
      "\n",
      " K Svar:\n",
      "[[1 2]\n",
      " [2 1]]\n",
      "\n",
      " L Svar:\n",
      "[[5 2]\n",
      " [7 4]]\n"
     ]
    }
   ],
   "source": [
    "print(\"\\n Uppgift 10.2.1:\")\n",
    "print(\"\\n A Svar:\")\n",
    "A = np.array([[2, 1, -1],\n",
    "              [1, -1, 1]])\n",
    "\n",
    "result_2A = 2 * A\n",
    "\n",
    "print(result_2A)\n",
    "\n",
    "print(\"\\n B Svar:\")\n",
    "A = np.array([[2, 1, -1],\n",
    "              [1, -1, 1]])\n",
    "B = np.array([[4, -2, 1],\n",
    "              [2, -4, -2]])\n",
    "\n",
    "result_B_minus_2A = B - 2 * A\n",
    "\n",
    "print(result_B_minus_2A)\n",
    "\n",
    "print(\"\\n C Svar:\")\n",
    "\n",
    "C = np.array([[1, 2],\n",
    "              [2, 1]])\n",
    "E = np.array([[1],\n",
    "              [2]])\n",
    "\n",
    "\n",
    "result_3C_minus_2E = 3 * C - 2 * E\n",
    "\n",
    "print(result_3C_minus_2E)\n",
    "\n",
    "print(\"\\n D Svar:\")\n",
    "\n",
    "C = np.array([[1, 2],\n",
    "              [2, 1]])\n",
    "D = np.array([[3, 4],\n",
    "              [4, 3]])\n",
    "\n",
    "\n",
    "result_2D_minus_3C = 2 * D - 3 * C\n",
    "\n",
    "print(result_2D_minus_3C)\n",
    "\n",
    "\n",
    "print(\"\\n E Svar:\")\n",
    "\n",
    "D_transposed_plus_2D = D.T + 2 * D\n",
    "\n",
    "print(D_transposed_plus_2D)\n",
    "\n",
    "\n",
    "print(\"\\n F Svar:\")\n",
    "\n",
    "\n",
    "result_2C_T_minus_2D_T = 2 * C.T - 2 * D.T\n",
    "\n",
    "print(result_2C_T_minus_2D_T)\n",
    "\n",
    "\n",
    "print(\"\\n G Svar:\")\n",
    "\n",
    "#result_A_T_minus_B = A.T - B\n",
    "\n",
    "#print(result_A_T_minus_B)\n",
    "\n",
    "print(\"Dimensionerna för At och B överensstämmer inte, vilket gör subtraktionen omöjlig utan att justera matriserna.\")\n",
    "\n",
    "print(\"\\n H Svar:\")\n",
    "\n",
    "\n",
    "print(\"Multiplikationen AC är inte möjligt eftersom antal kolumner i A inte matcher antalet rader i C.\")\n",
    "\n",
    "print(\"\\n I Svar:\")\n",
    "\n",
    "\n",
    "result_CD = np.dot(C, D)\n",
    "\n",
    "print(result_CD)\n",
    "\n",
    "\n",
    "print(\"\\n J Svar:\")\n",
    "\n",
    "result_CB = np.dot(C, B)\n",
    "\n",
    "print(result_CB)\n",
    "\n",
    "\n",
    "print(\"\\n K Svar:\")\n",
    "\n",
    "I = np.array([[1, 0],\n",
    "              [0, 1]])\n",
    "\n",
    "result_CI = np.dot(C, I)\n",
    "\n",
    "print(result_CI)\n",
    "\n",
    "\n",
    "print(\"\\n L Svar:\")\n",
    "\n",
    "result_AB_T = np.dot(A, B.T)\n",
    "\n",
    "print(result_AB_T)\n"
   ]
  },
  {
   "cell_type": "markdown",
   "id": "6a4a524f",
   "metadata": {},
   "source": [
    "### Copies and Views\n",
    "Read the following link: https://numpy.org/doc/stable/user/basics.copies.html"
   ]
  },
  {
   "cell_type": "markdown",
   "id": "6cbbeaf7",
   "metadata": {},
   "source": [
    "**Basic indexing creates a view, How can you check if v1 and v2 is a view or copy? If you change the last element in v2 to 123, will the last element in v1 be changed? Why?**"
   ]
  },
  {
   "cell_type": "code",
   "execution_count": 48,
   "id": "5b9ef4df",
   "metadata": {},
   "outputs": [
    {
     "name": "stdout",
     "output_type": "stream",
     "text": [
      "[0 1 2 3]\n",
      "[2 3]\n",
      "[  0   1   2 123]\n",
      "[  2 123]\n",
      "Eftersom v2 är en vy av v1, kommer ändringen i v2 att reflekteras i v1. Därför ändras det sista elementet i v1 också till 123\n"
     ]
    }
   ],
   "source": [
    "v1 = np.arange(4)\n",
    "v2 = v1[-2:]\n",
    "print(v1)\n",
    "print(v2)\n",
    "\n",
    "v2[-1] = 123\n",
    "print(v1)  \n",
    "print(v2)  \n",
    "\n",
    "print (\"Eftersom v2 är en vy av v1, kommer ändringen i v2 att reflekteras i v1. Därför ändras det sista elementet i v1 också till 123\")\n"
   ]
  },
  {
   "cell_type": "code",
   "execution_count": 50,
   "id": "d2440489",
   "metadata": {},
   "outputs": [
    {
     "name": "stdout",
     "output_type": "stream",
     "text": [
      "None\n",
      "[0 1 2 3]\n",
      "v1.base är None eftersom v1 är originalet och inte en vy.\n",
      "v2.base pekar på v1 eftersom v2 är en vy av v1 och delar data.\n"
     ]
    }
   ],
   "source": [
    "# The base attribute of a view returns the original array while it returns None for a copy.\n",
    "v1 = np.arange(4)\n",
    "v2 = v1[-2:]\n",
    "\n",
    "print(v1.base)\n",
    "print(v2.base)\n",
    "\n",
    "print(\"v1.base är None eftersom v1 är originalet och inte en vy.\")\n",
    "print(\"v2.base pekar på v1 eftersom v2 är en vy av v1 och delar data.\")"
   ]
  },
  {
   "cell_type": "code",
   "execution_count": 52,
   "id": "c8752807",
   "metadata": {},
   "outputs": [
    {
     "name": "stdout",
     "output_type": "stream",
     "text": [
      "[  0   1   2 123]\n",
      "[  2 123]\n",
      "Eftersom v2 är en vy av v1, delar de samma data.\n",
      "När man ändrar det sista elementet i v2, ändras också motsvarande element i v1.\n"
     ]
    }
   ],
   "source": [
    "# The last element in v1 will be changed aswell since v2 is a view, meaning they share the same data buffer.\n",
    "v2[-1] = 123\n",
    "print(v1)\n",
    "print(v2)\n",
    "\n",
    "print(\"Eftersom v2 är en vy av v1, delar de samma data.\")\n",
    "print(\"När man ändrar det sista elementet i v2, ändras också motsvarande element i v1.\")"
   ]
  },
  {
   "cell_type": "code",
   "execution_count": null,
   "id": "3dd68221",
   "metadata": {},
   "outputs": [],
   "source": []
  }
 ],
 "metadata": {
  "kernelspec": {
   "display_name": "Python 3 (ipykernel)",
   "language": "python",
   "name": "python3"
  },
  "language_info": {
   "codemirror_mode": {
    "name": "ipython",
    "version": 3
   },
   "file_extension": ".py",
   "mimetype": "text/x-python",
   "name": "python",
   "nbconvert_exporter": "python",
   "pygments_lexer": "ipython3",
   "version": "3.12.7"
  }
 },
 "nbformat": 4,
 "nbformat_minor": 5
}
